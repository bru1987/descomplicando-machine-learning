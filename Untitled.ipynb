{
 "cells": [
  {
   "cell_type": "markdown",
   "metadata": {},
   "source": [
    "# Faturamento da Startup"
   ]
  },
  {
   "cell_type": "code",
   "execution_count": 5,
   "metadata": {},
   "outputs": [
    {
     "name": "stdout",
     "output_type": "stream",
     "text": [
      "Visualizando todos os dados\n",
      "[[  1.00000000e+00              nan   4.12000000e+03]\n",
      " [  2.00000000e+00              nan   8.80000000e+03]\n",
      " [  3.00000000e+00              nan   1.15000000e+04]\n",
      " [  4.00000000e+00              nan   2.74800000e+04]\n",
      " [  5.00000000e+00              nan   4.71500000e+04]\n",
      " [  6.00000000e+00              nan   9.82000000e+04]]\n",
      "Dados corrigidos\n",
      "[[  1.00000000e+00   4.12000000e+03]\n",
      " [  2.00000000e+00   8.80000000e+03]\n",
      " [  3.00000000e+00   1.15000000e+04]\n",
      " [  4.00000000e+00   2.74800000e+04]\n",
      " [  5.00000000e+00   4.71500000e+04]\n",
      " [  6.00000000e+00   9.82000000e+04]]\n",
      "Pressione [enter] para continuar\n"
     ]
    },
    {
     "ename": "NameError",
     "evalue": "name 'fp1' is not defined",
     "output_type": "error",
     "traceback": [
      "\u001b[0;31m---------------------------------------------------------------------------\u001b[0m",
      "\u001b[0;31mNameError\u001b[0m                                 Traceback (most recent call last)",
      "\u001b[0;32m<ipython-input-5-798afe556197>\u001b[0m in \u001b[0;36m<module>\u001b[0;34m()\u001b[0m\n\u001b[1;32m     35\u001b[0m \u001b[0;31m# Colocando os modelos de primeiro, segundo...graus\u001b[0m\u001b[0;34m\u001b[0m\u001b[0;34m\u001b[0m\u001b[0m\n\u001b[1;32m     36\u001b[0m \u001b[0;34m\u001b[0m\u001b[0m\n\u001b[0;32m---> 37\u001b[0;31m \u001b[0mprint\u001b[0m\u001b[0;34m(\u001b[0m\u001b[0;34m\"Model parameters: %s\"\u001b[0m \u001b[0;34m%\u001b[0m  \u001b[0mfp1\u001b[0m\u001b[0;34m)\u001b[0m\u001b[0;34m\u001b[0m\u001b[0m\n\u001b[0m\u001b[1;32m     38\u001b[0m \u001b[0;34m\u001b[0m\u001b[0m\n\u001b[1;32m     39\u001b[0m \u001b[0;31m# O que são residuals? O que é cada coisa aqui no código?\u001b[0m\u001b[0;34m\u001b[0m\u001b[0;34m\u001b[0m\u001b[0m\n",
      "\u001b[0;31mNameError\u001b[0m: name 'fp1' is not defined"
     ]
    }
   ],
   "source": [
    "# Loading the libraries\n",
    "import scipy as sp\n",
    "import numpy as np\n",
    "import matplotlib.pyplot as plt\n",
    "\n",
    "# Extraindo os dados do arquivo dados.csv\n",
    "# Alocando os dados em matrizes apropriadas\n",
    "dados = sp.genfromtxt(\"datasets/faturamento-startup.csv\", delimiter=\",\")\n",
    "# Exibindo os dados\n",
    "print('Visualizando todos os dados')\n",
    "print (dados)\n",
    "\n",
    "dados = np.delete(dados,1,1) # Eliminando a segunda coluna\n",
    "\n",
    "print('Dados corrigidos')\n",
    "print (dados)\n",
    "# Definindo a função erro\n",
    "def error(f, x, y):\n",
    "    return sp.sum((f(x)-y)**2)\n",
    "# Gráfico\n",
    "x = dados[:,0] # Os valores do eixo x serão retirados da primeira coluna da matriz de dados\n",
    "y = dados[:,1] # Os valores do eixo y serão retirados da segunda coluna da matriz de dados\n",
    "plt.scatter(x,y)\n",
    "plt.title(\"Faturamento da startup\")\n",
    "plt.xlabel(\"Meses\")\n",
    "plt.ylabel(\"Faturamento mensal em R$\")\n",
    "plt.autoscale(tight=True)\n",
    "axes = plt.gca() # gca significa \"get current axis\"\n",
    "axes.set_xlim([0,8]) # Limites do eixo x\n",
    "axes.set_ylim([0,300000]) # Limites do eixo y\n",
    "plt.plot()\n",
    "plt.pause(0.001)\n",
    "input(\"Pressione [enter] para continuar\")\n",
    "\n",
    "# Colocando os modelos de primeiro, segundo...graus\n",
    "\n",
    "print(\"Model parameters: %s\" %  fp1)\n",
    "\n",
    "# O que são residuals? O que é cada coisa aqui no código?\n",
    "print(residuals)\n",
    "\n",
    "# Fazendo a aproximação de primeira ordem\n",
    "f1 = sp.poly1d(fp1)\n",
    "print(error(f1, x, y))\n",
    "fx = sp.linspace(0,x[-1], 8) # generate X-values for plotting\n",
    "plt.plot(fx, f1(fx), linewidth=4)\n",
    "\n",
    "# Imprimindo a reta\n",
    "plt.plot(fx, f1(fx), linewidth=4)\n",
    "plt.legend([\"d=%i\" % f1.order], loc=\"upper left\")\n"
   ]
  },
  {
   "cell_type": "code",
   "execution_count": null,
   "metadata": {
    "collapsed": true
   },
   "outputs": [],
   "source": []
  }
 ],
 "metadata": {
  "kernelspec": {
   "display_name": "Python 3",
   "language": "python",
   "name": "python3"
  },
  "language_info": {
   "codemirror_mode": {
    "name": "ipython",
    "version": 3
   },
   "file_extension": ".py",
   "mimetype": "text/x-python",
   "name": "python",
   "nbconvert_exporter": "python",
   "pygments_lexer": "ipython3",
   "version": "3.6.1"
  }
 },
 "nbformat": 4,
 "nbformat_minor": 2
}
