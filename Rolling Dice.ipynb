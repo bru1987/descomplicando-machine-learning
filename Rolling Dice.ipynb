{
 "cells": [
  {
   "cell_type": "markdown",
   "metadata": {},
   "source": [
    "# Rolling Dice"
   ]
  },
  {
   "cell_type": "code",
   "execution_count": 1,
   "metadata": {},
   "outputs": [
    {
     "name": "stdout",
     "output_type": "stream",
     "text": [
      "Girando um dado aleatório\n",
      "Faces do dado: 6\n",
      "Resultado: 4\n",
      "Jogar novamente (S/N): S\n",
      "Resultado: 4\n",
      "Jogar novamente (S/N): S\n",
      "Resultado: 3\n",
      "Jogar novamente (S/N): S\n",
      "Resultado: 6\n",
      "Jogar novamente (S/N): S\n",
      "Resultado: 5\n",
      "Jogar novamente (S/N): N\n",
      "Até a próxima.\n"
     ]
    }
   ],
   "source": [
    "# dice rolling example\n",
    "from random import randint\n",
    "\n",
    "# \n",
    "def dado(faces):\n",
    "    return randint(1,faces)\n",
    "\n",
    "print (\"Girando um dado aleatório\")\n",
    "faces = int(input(\"Faces do dado: \"))\n",
    "while True: #loop infinito\n",
    "    resultado = dado(faces)\n",
    "    print(\"Resultado: \" + str(resultado))\n",
    "    opcao = input(\"Jogar novamente (S/N): \")\n",
    "    if (opcao != \"S\"):\n",
    "        print(\"Até a próxima.\")\n",
    "        break\n"
   ]
  },
  {
   "cell_type": "code",
   "execution_count": null,
   "metadata": {
    "collapsed": true
   },
   "outputs": [],
   "source": []
  }
 ],
 "metadata": {
  "kernelspec": {
   "display_name": "Python 3",
   "language": "python",
   "name": "python3"
  },
  "language_info": {
   "codemirror_mode": {
    "name": "ipython",
    "version": 3
   },
   "file_extension": ".py",
   "mimetype": "text/x-python",
   "name": "python",
   "nbconvert_exporter": "python",
   "pygments_lexer": "ipython3",
   "version": "3.6.1"
  }
 },
 "nbformat": 4,
 "nbformat_minor": 2
}
