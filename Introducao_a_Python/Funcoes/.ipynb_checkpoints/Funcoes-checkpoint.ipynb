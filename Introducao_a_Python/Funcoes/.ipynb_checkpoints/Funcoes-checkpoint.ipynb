{
 "cells": [
  {
   "cell_type": "markdown",
   "metadata": {},
   "source": [
    "# Funções"
   ]
  },
  {
   "cell_type": "markdown",
   "metadata": {},
   "source": [
    "..."
   ]
  },
  {
   "cell_type": "code",
   "execution_count": null,
   "metadata": {},
   "outputs": [],
   "source": [
    "def input_usuario():\n",
    "    while True:\n",
    "        x = input(\"Insira um número inteiro: \")\n",
    "        try:\n",
    "            valor = int(x)\n",
    "            if valor >= 0:\n",
    "                break\n",
    "            else:\n",
    "                print(\"O valor não pode ser negativo, tente novamente\")\n",
    "        except ValueError:\n",
    "            print(\"O valor deve ser inteiro, tente novamente\")\n",
    "    return print(\"Valor inserido: \", valor)\n",
    "\n",
    "input_usuario()"
   ]
  },
  {
   "cell_type": "markdown",
   "metadata": {
    "collapsed": true
   },
   "source": [
    "As funções em Python são definidas da forma abaixo. Vamos criar uma função que calcula a diagonal de um quadrado dado o comprimento do seu lado:"
   ]
  },
  {
   "cell_type": "code",
   "execution_count": 2,
   "metadata": {},
   "outputs": [],
   "source": [
    "def diagonal(lado):\n",
    "    \n",
    "    # Aqui receberemos o input do usuário\n",
    "    lado = int(input(\"Qual a medida do lado do quadrado? \"))\n",
    "    \n",
    "    return lado*cmath.sqrt(2)\n",
    "\n",
    "def main():\n",
    "    diagonal(lado)"
   ]
  },
  {
   "cell_type": "code",
   "execution_count": null,
   "metadata": {
    "collapsed": true
   },
   "outputs": [],
   "source": []
  },
  {
   "cell_type": "code",
   "execution_count": null,
   "metadata": {},
   "outputs": [],
   "source": [
    "import cmath\n",
    "\n",
    "def bhaskara(a,b,c):\n",
    "    # Aqui o usuário irá inserir os valores de a (que não pode ser nulo), b e de c\n",
    "    # Para fins de simplicidade, só serão permitidos números inteiros\n",
    "    a = int(input(\"Insira o valor de a (inteiro não nulo): \"))\n",
    "    \n",
    "    # Os valores de b e de c, por outro lado, podem ser nulos\n",
    "    b = int(input(\"Insira o valor de b (inteiro): \"))\n",
    "    c = int(input(\"Insira o valor de c (inteiro): \"))\n",
    "    \n",
    "    raiz1 = (-b+cmath.sqrt(b**2 - 4*a*c))/(2*a)\n",
    "    raiz2 = (-b-cmath.sqrt(b**2 - 4*a*c))/(2*a)\n",
    "    \n",
    "    return raiz1,raiz2\n",
    "\n",
    "bhaskara(1,0,0)"
   ]
  },
  {
   "cell_type": "code",
   "execution_count": null,
   "metadata": {
    "collapsed": true
   },
   "outputs": [],
   "source": []
  }
 ],
 "metadata": {
  "kernelspec": {
   "display_name": "Python 3",
   "language": "python",
   "name": "python3"
  },
  "language_info": {
   "codemirror_mode": {
    "name": "ipython",
    "version": 3
   },
   "file_extension": ".py",
   "mimetype": "text/x-python",
   "name": "python",
   "nbconvert_exporter": "python",
   "pygments_lexer": "ipython3",
   "version": "3.6.1"
  }
 },
 "nbformat": 4,
 "nbformat_minor": 2
}
