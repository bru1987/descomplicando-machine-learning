{
 "cells": [
  {
   "cell_type": "markdown",
   "metadata": {},
   "source": [
    "# Funções"
   ]
  },
  {
   "cell_type": "markdown",
   "metadata": {},
   "source": [
    "..."
   ]
  },
  {
   "cell_type": "code",
   "execution_count": 3,
   "metadata": {},
   "outputs": [
    {
     "name": "stdout",
     "output_type": "stream",
     "text": [
      "Insira um número inteiro: a\n",
      "O valor deve ser inteiro, tente novamente\n",
      "Insira um número inteiro: 121.2\n",
      "O valor deve ser inteiro, tente novamente\n",
      "Insira um número inteiro: 2\n",
      "Valor inserido:  2\n"
     ]
    }
   ],
   "source": [
    "def input_usuario():\n",
    "    while True:\n",
    "        x = input(\"Insira um número inteiro: \")\n",
    "        try:\n",
    "            valor = int(x)\n",
    "            if valor >= 0:\n",
    "                break\n",
    "            else:\n",
    "                print(\"O valor não pode ser negativo, tente novamente\")\n",
    "        except ValueError:\n",
    "            print(\"O valor deve ser inteiro, tente novamente\")\n",
    "    return print(\"Valor inserido: \", valor)\n",
    "\n",
    "input_usuario()"
   ]
  },
  {
   "cell_type": "code",
   "execution_count": null,
   "metadata": {
    "collapsed": true
   },
   "outputs": [],
   "source": []
  }
 ],
 "metadata": {
  "kernelspec": {
   "display_name": "Python 3",
   "language": "python",
   "name": "python3"
  },
  "language_info": {
   "codemirror_mode": {
    "name": "ipython",
    "version": 3
   },
   "file_extension": ".py",
   "mimetype": "text/x-python",
   "name": "python",
   "nbconvert_exporter": "python",
   "pygments_lexer": "ipython3",
   "version": "3.6.1"
  }
 },
 "nbformat": 4,
 "nbformat_minor": 2
}
