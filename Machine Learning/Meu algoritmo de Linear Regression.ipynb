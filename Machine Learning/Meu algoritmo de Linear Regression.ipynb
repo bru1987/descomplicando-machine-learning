{
 "cells": [
  {
   "cell_type": "markdown",
   "metadata": {},
   "source": [
    "# Meu algoritmo de Linear Regression"
   ]
  },
  {
   "cell_type": "code",
   "execution_count": 1,
   "metadata": {
    "collapsed": true
   },
   "outputs": [],
   "source": [
    "from numpy import *\n",
    "import matplotlib.pyplot as plt\n",
    "\n",
    "x = random.randn(10,1)\n",
    "y = 2 * x + 3 + 0.5*random.randn(10,1)"
   ]
  },
  {
   "cell_type": "markdown",
   "metadata": {},
   "source": [
    "Vamos olhar nosso conjunto de dados"
   ]
  },
  {
   "cell_type": "code",
   "execution_count": 2,
   "metadata": {},
   "outputs": [
    {
     "data": {
      "image/png": "[encoded data removed]",
      "text/plain": [
       "<matplotlib.figure.Figure at 0x103ab7dd8>"
      ]
     },
     "metadata": {},
     "output_type": "display_data"
    }
   ],
   "source": [
    "plt.scatter(y,x)\n",
    "plt.show()"
   ]
  },
  {
   "cell_type": "markdown",
   "metadata": {},
   "source": [
    "Algoritmo de linear regression (com gradient descent)\n",
    "Nosso modelo será linear: \n",
    "\n",
    "$$y = p_1 x + p_0$$\n",
    "\n",
    "Dado que a função que utilizamos foi aproximadamente $y = 2x + 3$, a resposta deverá produzir os resultados $p_0 = 3$ e $p_1 = 2$"
   ]
  },
  {
   "cell_type": "code",
   "execution_count": 3,
   "metadata": {},
   "outputs": [
    {
     "name": "stdout",
     "output_type": "stream",
     "text": [
      "Iterações:  10000  Valor de p0:  3.37786684338  Valor de p1:  1.94645500965  Erro:  0.182257232481\n"
     ]
    },
    {
     "data": {
      "image/png": "[encoded data removed]",
      "text/plain": [
       "<matplotlib.figure.Figure at 0x10a1389b0>"
      ]
     },
     "metadata": {},
     "output_type": "display_data"
    }
   ],
   "source": [
    "iteracoes = 10000 # Número máximo de iterações do algoritmo\n",
    "learning_rate = 0.01\n",
    "\n",
    "# Modelo: y = p1*x+p0\n",
    "\n",
    "p0 = 0\n",
    "p1 = 0\n",
    "erro=1\n",
    "erro_max = 0.001 # Erro máximo\n",
    "gradientep0 = 0\n",
    "gradientep1 = 0\n",
    "m=len(x) # Quantidade de amostras na entrada, no nosso caso 10\n",
    "ii = 0 # Contador de iterações\n",
    "\n",
    "while (ii<iteracoes and erro >= erro_max):\n",
    "    # Gradiente\n",
    "    gradientep0 = (1/m) * sum(((p0+p1*x) - y))\n",
    "    gradientep1 = (1/m) * sum(dot(transpose(x),((p1*x+p0) - y)))\n",
    "    p0 = p0 - learning_rate*gradientep0\n",
    "    p1 = p1 - learning_rate*gradientep1\n",
    "    # Erro\n",
    "    erro = (1/m) * sum(((p0+p1*x) - y)**2) # Mean Squared Error\n",
    "    ii += 1\n",
    "    \n",
    "print (\"Iterações: \",ii,\" Valor de p0: \", p0,\" Valor de p1: \",p1, \" Erro: \", erro)\n",
    "\n",
    "# Resultados\n",
    "\n",
    "plt.scatter(y,x)\n",
    "x_reta = linspace(min(x), max(x), 100)\n",
    "plt.plot(p0+p1*x_reta, x_reta, 'r')\n",
    "plt.legend(['Reta ajustada', 'Dados'])\n",
    "plt.show()"
   ]
  },
  {
   "cell_type": "markdown",
   "metadata": {},
   "source": [
    "numpy arrays are not matrices, and the standard operations *, +, -, / work element-wise on arrays."
   ]
  },
  {
   "cell_type": "markdown",
   "metadata": {},
   "source": [
    "## Utilizando Scikit Learn"
   ]
  },
  {
   "cell_type": "code",
   "execution_count": 4,
   "metadata": {},
   "outputs": [
    {
     "data": {
      "text/plain": [
       "array([[ 1.94645501]])"
      ]
     },
     "execution_count": 4,
     "metadata": {},
     "output_type": "execute_result"
    }
   ],
   "source": [
    "from sklearn.linear_model import LinearRegression\n",
    "from sklearn.metrics import mean_squared_error\n",
    "\n",
    "model = LinearRegression(fit_intercept=True)\n",
    "model.fit(x,y)\n",
    "\n",
    "model.coef_"
   ]
  },
  {
   "cell_type": "code",
   "execution_count": 5,
   "metadata": {},
   "outputs": [
    {
     "data": {
      "text/plain": [
       "array([ 3.37786684])"
      ]
     },
     "execution_count": 5,
     "metadata": {},
     "output_type": "execute_result"
    }
   ],
   "source": [
    "model.intercept_"
   ]
  },
  {
   "cell_type": "code",
   "execution_count": 6,
   "metadata": {},
   "outputs": [
    {
     "data": {
      "text/plain": [
       "0.18225723248101772"
      ]
     },
     "execution_count": 6,
     "metadata": {},
     "output_type": "execute_result"
    }
   ],
   "source": [
    "y_retaajustada = float(model.coef_)*x + float(model.intercept_)\n",
    "mean_squared_error(y,y_retaajustada)"
   ]
  },
  {
   "cell_type": "markdown",
   "metadata": {},
   "source": [
    "Mais fácil, não?!"
   ]
  },
  {
   "cell_type": "code",
   "execution_count": null,
   "metadata": {
    "collapsed": true
   },
   "outputs": [],
   "source": []
  }
 ],
 "metadata": {
  "kernelspec": {
   "display_name": "Python 3",
   "language": "python",
   "name": "python3"
  },
  "language_info": {
   "codemirror_mode": {
    "name": "ipython",
    "version": 3
   },
   "file_extension": ".py",
   "mimetype": "text/x-python",
   "name": "python",
   "nbconvert_exporter": "python",
   "pygments_lexer": "ipython3",
   "version": "3.6.1"
  }
 },
 "nbformat": 4,
 "nbformat_minor": 2
}
