{
 "cells": [
  {
   "cell_type": "markdown",
   "metadata": {},
   "source": [
    "# Introdução a Python"
   ]
  },
  {
   "cell_type": "markdown",
   "metadata": {},
   "source": [
    "Seja bem-vindo a esta introdução à linguagem de programação Python - ela será essencial no desenvolvimento \n",
    "de algoritmos e programas baseados em Machine Learning. \n",
    "\n",
    "Esta não é uma introdução a programação - sendo assim, é essencial que você tenha algum conhecimento sobre \n",
    "algoritmos e já tenha uma experiência prévia sobre programação: o que são variáveis, if-statements e outros\n",
    "conceitos básicos.\n",
    "    \n",
    "Contudo, é somente disso que você precisa, nada mais.\n",
    "Aqui você encontrará materiais didáticos (e vídeos?) assim como muitos (MUITOS!) exercícios para que você pratique \n",
    "os conceitos aprendidos. O curso é self-paced, o que significa que você pode fazê-lo no ritmo que deseja\n",
    "\n",
    "Então vamos começar."
   ]
  },
  {
   "cell_type": "markdown",
   "metadata": {},
   "source": [
    "## Instalação"
   ]
  },
  {
   "cell_type": "markdown",
   "metadata": {},
   "source": [
    "Aqui, linkar algum tutorial bom sobre instalação para Mac, Windows e Linux"
   ]
  },
  {
   "cell_type": "markdown",
   "metadata": {},
   "source": [
    "https://developers.google.com/edu/python/set-up"
   ]
  },
  {
   "cell_type": "markdown",
   "metadata": {},
   "source": [
    "## Como funciona Python?"
   ]
  },
  {
   "cell_type": "markdown",
   "metadata": {},
   "source": [
    "Python is a dynamic, interpreted (bytecode-compiled) language. There are no type declarations of variables, parameters, functions, or methods in source code. This makes the code short and flexible, and you lose the compile-time type checking of the source code. Python tracks the types of all values at runtime and flags code that does not make sense as it runs.\n",
    "\n",
    "An excellent way to see how Python code works is to run the Python interpreter and type code right into it. If you ever have a question like, \"What happens if I add an int to a list?\" Just typing it into the Python interpreter is a fast and likely the best way to see what happens. (See below to see what really happens!)"
   ]
  },
  {
   "cell_type": "markdown",
   "metadata": {},
   "source": [
    "O que seria de uma linguagem de programação sem uma introdução com 'Hello world'?"
   ]
  },
  {
   "cell_type": "code",
   "execution_count": 18,
   "metadata": {},
   "outputs": [
    {
     "name": "stdout",
     "output_type": "stream",
     "text": [
      "Hello world\n"
     ]
    }
   ],
   "source": [
    "%run helloworld.py"
   ]
  },
  {
   "cell_type": "markdown",
   "metadata": {},
   "source": [
    "Como você pode visualizar no arquivo helloworld.py, a cerquilha produz comentários no código em Python.\n",
    "Vamos agora fazer uma mudança no código: perceba o que acontece quando você tenta criar o mesmo código porém agora escrito 'Olá mundo'."
   ]
  },
  {
   "cell_type": "code",
   "execution_count": 19,
   "metadata": {},
   "outputs": [
    {
     "name": "stdout",
     "output_type": "stream",
     "text": [
      "Olá mundo\n"
     ]
    }
   ],
   "source": [
    "%run olamundo.py"
   ]
  },
  {
   "cell_type": "markdown",
   "metadata": {},
   "source": [
    "É realmente necessário falar do problema de ENCODING agora?"
   ]
  },
  {
   "cell_type": "markdown",
   "metadata": {},
   "source": [
    "Entendendo e explicando o problema de ENCODING"
   ]
  },
  {
   "cell_type": "markdown",
   "metadata": {},
   "source": [
    "https://gist.github.com/gornostal/1f123aaf838506038710\n",
    "https://www.azavea.com/blog/2014/03/24/solving-unicode-problems-in-python-2-7/"
   ]
  },
  {
   "cell_type": "markdown",
   "metadata": {},
   "source": [
    "# Loops"
   ]
  },
  {
   "cell_type": "markdown",
   "metadata": {},
   "source": [
    "Lalala"
   ]
  },
  {
   "cell_type": "markdown",
   "metadata": {},
   "source": [
    "# While loops"
   ]
  },
  {
   "cell_type": "markdown",
   "metadata": {},
   "source": [
    "Lalala"
   ]
  },
  {
   "cell_type": "code",
   "execution_count": 21,
   "metadata": {},
   "outputs": [
    {
     "name": "stdout",
     "output_type": "stream",
     "text": [
      "O número 2 elevado a 1 é igual a 2.000000\n",
      "O número 2 elevado a 2 é igual a 4.000000\n",
      "O número 2 elevado a 3 é igual a 8.000000\n",
      "O número 2 elevado a 4 é igual a 16.000000\n",
      "O número 2 elevado a 5 é igual a 32.000000\n",
      "O número 2 elevado a 6 é igual a 64.000000\n",
      "O número 2 elevado a 7 é igual a 128.000000\n",
      "O número 2 elevado a 8 é igual a 256.000000\n",
      "O número 2 elevado a 9 é igual a 512.000000\n",
      "O número 2 elevado a 10 é igual a 1024.000000\n",
      "Acabou!\n"
     ]
    }
   ],
   "source": [
    "%run whileloop.py"
   ]
  },
  {
   "cell_type": "markdown",
   "metadata": {},
   "source": [
    "Mostrar aqui como lidar om integers e com floats com um número específico de casas decimais"
   ]
  },
  {
   "cell_type": "markdown",
   "metadata": {},
   "source": [
    "## Inputando dados"
   ]
  },
  {
   "cell_type": "markdown",
   "metadata": {},
   "source": [
    "Lalalala"
   ]
  },
  {
   "cell_type": "markdown",
   "metadata": {},
   "source": [
    "# Exercícios"
   ]
  },
  {
   "cell_type": "markdown",
   "metadata": {},
   "source": [
    "Exercício: Elabore um programa que calcule o IMC de uma pessoa, inputando seu peso e altura. A resposta deve ser do tipo \"Uma pessoa com altura XX e peso XX possui IMC XX\". A fórmula para o cálculo do IMC é dada abaixo:"
   ]
  },
  {
   "cell_type": "markdown",
   "metadata": {},
   "source": [
    "$$\\text{IMC} = \\frac{\\text{peso}}{(\\text{altura})^2}$$"
   ]
  },
  {
   "cell_type": "markdown",
   "metadata": {},
   "source": [
    "Resposta: programa-calculo-imc.py"
   ]
  },
  {
   "cell_type": "markdown",
   "metadata": {
    "collapsed": true
   },
   "source": []
  }
 ],
 "metadata": {
  "kernelspec": {
   "display_name": "Python 3",
   "language": "python",
   "name": "python3"
  },
  "language_info": {
   "codemirror_mode": {
    "name": "ipython",
    "version": 3
   },
   "file_extension": ".py",
   "mimetype": "text/x-python",
   "name": "python",
   "nbconvert_exporter": "python",
   "pygments_lexer": "ipython3",
   "version": "3.6.1"
  }
 },
 "nbformat": 4,
 "nbformat_minor": 2
}
