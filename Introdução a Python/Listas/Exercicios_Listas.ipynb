{
 "cells": [
  {
   "cell_type": "markdown",
   "metadata": {},
   "source": [
    "# Exercícios - Listas"
   ]
  },
  {
   "cell_type": "markdown",
   "metadata": {},
   "source": [
    "Dada a lista de números primos menores do que 100\n",
    "\n",
    "primos = [2, 3, 5, 7, 11, 13, 17, 19, 23, 29, 31, 37, 41, 43, 47, 53, 59, 61, 67, 71, 73, 79, 83, 89, 97]\n",
    "\n",
    "(não, 1 não é um número primo!) escreva um programa que crie uma nova lista com todos os elementos da lista de primos porém menores do que 25.\n",
    "\n",
    "Exercícios extras:\n",
    "\n",
    "(a) Conte o número de elementos desta lista\n",
    "\n",
    "(b) Escreva o exercício em uma linha de código\n",
    "\n",
    "(c) Deixe que o usuário insira um número de forma que, a lista a ser retornada, deve conter números menores do que aquele inserido pelo usuário (aqui você pode utilizar loops). Utilizar append para acrescentar os elementos ao seu vetor de resposta (caso guarde as respostas em outro vetor)."
   ]
  },
  {
   "cell_type": "markdown",
   "metadata": {},
   "source": [
    "### Resposta"
   ]
  },
  {
   "cell_type": "code",
   "execution_count": 8,
   "metadata": {},
   "outputs": [
    {
     "name": "stdout",
     "output_type": "stream",
     "text": [
      "[2, 3, 5, 7, 11, 13, 17, 19]\n",
      "O número de elementos desta lista é 25\n",
      "[2, 3, 5, 7, 11, 13, 17, 19]\n",
      "Insira o valor máximo para a lista: 32\n",
      "Números primos até 32 : [2, 3, 5, 7, 11, 13, 17, 19, 23, 29, 31]\n"
     ]
    }
   ],
   "source": [
    "%run lista-primos.py"
   ]
  },
  {
   "cell_type": "code",
   "execution_count": null,
   "metadata": {
    "collapsed": true
   },
   "outputs": [],
   "source": []
  },
  {
   "cell_type": "code",
   "execution_count": null,
   "metadata": {
    "collapsed": true
   },
   "outputs": [],
   "source": []
  }
 ],
 "metadata": {
  "kernelspec": {
   "display_name": "Python 3",
   "language": "python",
   "name": "python3"
  },
  "language_info": {
   "codemirror_mode": {
    "name": "ipython",
    "version": 3
   },
   "file_extension": ".py",
   "mimetype": "text/x-python",
   "name": "python",
   "nbconvert_exporter": "python",
   "pygments_lexer": "ipython3",
   "version": "3.6.1"
  }
 },
 "nbformat": 4,
 "nbformat_minor": 2
}
