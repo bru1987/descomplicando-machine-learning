{
 "cells": [
  {
   "cell_type": "markdown",
   "metadata": {},
   "source": [
    "# Exercícios"
   ]
  },
  {
   "cell_type": "markdown",
   "metadata": {},
   "source": [
    "### Exercício"
   ]
  },
  {
   "cell_type": "markdown",
   "metadata": {},
   "source": [
    "Elabore um programa que calcule o IMC de uma pessoa, inputando seu peso e altura. A resposta deve ser do tipo \"Uma pessoa com altura XX e peso XX possui IMC XX\". A fórmula para o cálculo do IMC é dada abaixo:"
   ]
  },
  {
   "cell_type": "markdown",
   "metadata": {},
   "source": [
    "$$\\text{IMC} = \\frac{\\text{peso}}{(\\text{altura})^2}$$"
   ]
  },
  {
   "cell_type": "markdown",
   "metadata": {},
   "source": [
    "### Resposta"
   ]
  },
  {
   "cell_type": "code",
   "execution_count": null,
   "metadata": {
    "collapsed": true
   },
   "outputs": [],
   "source": [
    "%run programa-calculo-imc.py"
   ]
  },
  {
   "cell_type": "markdown",
   "metadata": {},
   "source": [
    "### Exercício"
   ]
  },
  {
   "cell_type": "markdown",
   "metadata": {
    "collapsed": true
   },
   "source": [
    "Elabore um programa que pergunte ao usuário a sua idade e seu nome. Mostre uma mensagem a ele dizendo em que ano ele terá 100 anos de idade. O usuário não irá inserir o ano atual!\n",
    "Exercício adicional: a idade da pessoa deve ser o número de vezes que a mensagem é exibida. Se o usuário tem 27 anos de idade, por exemplo, mostrar a mensagem 27 vezes, em linhas separadas."
   ]
  },
  {
   "cell_type": "markdown",
   "metadata": {},
   "source": [
    "### Resposta"
   ]
  },
  {
   "cell_type": "code",
   "execution_count": null,
   "metadata": {
    "collapsed": true
   },
   "outputs": [],
   "source": [
    "import datetime\n",
    "now = datetime.datetime.now()\n",
    "ano_atual = now.year\n",
    "\n",
    "nome = input(\"Qual é seu nome?\")\n",
    "idade = int(input(\"Qual é sua idade?\"))\n",
    "\n",
    "cem_anos = - idade + 100 + now.year - 1\n",
    "\n",
    "print(\"Você completará 100 anos de idade em\", cem_anos)\n",
    "\n",
    "print(\"Exercício adicional\")\n",
    "\n",
    "i = 1 #contador\n",
    "\n",
    "while i <= idade:\n",
    "    print(\"Você completará 100 anos de idade em\", cem_anos)\n",
    "    i += 1"
   ]
  },
  {
   "cell_type": "markdown",
   "metadata": {
    "collapsed": true
   },
   "source": [
    "### Exercício"
   ]
  },
  {
   "cell_type": "markdown",
   "metadata": {},
   "source": [
    "O que acontece se você multiplicar uma string por um número?"
   ]
  },
  {
   "cell_type": "markdown",
   "metadata": {},
   "source": [
    "Cria-se uma string com n expressões concatenadas daquela string"
   ]
  },
  {
   "cell_type": "markdown",
   "metadata": {
    "collapsed": true
   },
   "source": [
    "### Exercício"
   ]
  },
  {
   "cell_type": "markdown",
   "metadata": {},
   "source": [
    "Ask the user for a number. Depending on whether the number is even or odd, print out an appropriate message to the user. Hint: how does an even / odd number react differently when divided by 2?\n",
    "\n",
    "Extras:\n",
    "\n",
    "If the number is a multiple of 4, print out a different message.\n",
    "Ask the user for two numbers: one number to check (call it num) and one number to divide by (check). If check divides evenly into num, tell that to the user. If not, print a different appropriate message.\n",
    "Mais uma variação: o usuário não pode digitar um número negativo ou zero no numerador ou no denominador."
   ]
  },
  {
   "cell_type": "markdown",
   "metadata": {},
   "source": [
    "### Resposta"
   ]
  },
  {
   "cell_type": "code",
   "execution_count": null,
   "metadata": {
    "collapsed": true
   },
   "outputs": [],
   "source": [
    "numero = int(input(\"Escreva um número inteiro: \"))\n",
    "\n",
    "if (numero % 2 == 0):\n",
    "    print(\"Este número é divisível por 2\")\n",
    "    \n",
    "    if (numero % 4 == 0):\n",
    "        print(\"Aliás, este número também é divisível por 4\")\n",
    "    \n",
    "else: \n",
    "    print(\"Este número não é divisível por 2\")"
   ]
  },
  {
   "cell_type": "code",
   "execution_count": null,
   "metadata": {
    "collapsed": true
   },
   "outputs": [],
   "source": [
    "numero = int(input(\"Escreva um número inteiro: \"))\n",
    "divisor = int(input(\"Escreva um possível divisor: \"))\n",
    "\n",
    "if (numero % divisor == 0):\n",
    "    print(numero,\"é divisível por\", divisor)\n",
    "    \n",
    "else: \n",
    "    print(numero, \"não é divisível por\", divisor)"
   ]
  },
  {
   "cell_type": "code",
   "execution_count": 2,
   "metadata": {},
   "outputs": [
    {
     "name": "stdout",
     "output_type": "stream",
     "text": [
      "Insira um valor inteiro positivo20\n",
      "Insira um possível divisor inteiro positivo2\n",
      "20 é divisível por 2\n"
     ]
    }
   ],
   "source": [
    "while True:\n",
    "    try:   \n",
    "        numero=int(input(\"Insira um valor inteiro positivo\"))\n",
    "        if numero > 0:\n",
    "            break\n",
    "        else:\n",
    "            print(\"O número precisa ser positivo\")\n",
    "            continue \n",
    "            \n",
    "    except ValueError:\n",
    "       print(\"O número precisa ser inteiro\")\n",
    "       continue\n",
    "    else:\n",
    "        break\n",
    "        \n",
    "while True:\n",
    "    try:   \n",
    "        divisor=int(input(\"Insira um possível divisor inteiro positivo\"))\n",
    "        if divisor > 0:\n",
    "            break\n",
    "        else:\n",
    "            print(\"O número precisa ser positivo\")\n",
    "            continue \n",
    "            \n",
    "    except ValueError:\n",
    "       print(\"O número precisa ser inteiro\")\n",
    "       continue\n",
    "    else:\n",
    "        break\n",
    "\n",
    "if (numero % divisor == 0):\n",
    "    print(numero,\"é divisível por\", divisor)\n",
    "    \n",
    "else: \n",
    "    print(numero, \"não é divisível por\", divisor)"
   ]
  },
  {
   "cell_type": "markdown",
   "metadata": {},
   "source": []
  }
 ],
 "metadata": {
  "kernelspec": {
   "display_name": "Python 3",
   "language": "python",
   "name": "python3"
  },
  "language_info": {
   "codemirror_mode": {
    "name": "ipython",
    "version": 3
   },
   "file_extension": ".py",
   "mimetype": "text/x-python",
   "name": "python",
   "nbconvert_exporter": "python",
   "pygments_lexer": "ipython3",
   "version": "3.6.1"
  }
 },
 "nbformat": 4,
 "nbformat_minor": 2
}
