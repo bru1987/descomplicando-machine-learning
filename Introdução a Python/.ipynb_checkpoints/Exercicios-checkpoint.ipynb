{
 "cells": [
  {
   "cell_type": "markdown",
   "metadata": {},
   "source": [
    "# Exercícios"
   ]
  },
  {
   "cell_type": "markdown",
   "metadata": {},
   "source": [
    "### Exercício"
   ]
  },
  {
   "cell_type": "markdown",
   "metadata": {},
   "source": [
    "Elabore um programa que calcule o IMC de uma pessoa, inputando seu peso e altura. A resposta deve ser do tipo \"Uma pessoa com altura XX e peso XX possui IMC XX\". A fórmula para o cálculo do IMC é dada abaixo:"
   ]
  },
  {
   "cell_type": "markdown",
   "metadata": {},
   "source": [
    "$$\\text{IMC} = \\frac{\\text{peso}}{(\\text{altura})^2}$$"
   ]
  },
  {
   "cell_type": "markdown",
   "metadata": {},
   "source": [
    "### Resposta"
   ]
  },
  {
   "cell_type": "code",
   "execution_count": 2,
   "metadata": {},
   "outputs": [
    {
     "name": "stdout",
     "output_type": "stream",
     "text": [
      "O IMC de uma pessoa com 72 kg e 1.750000 metros de altura é 23.510000\n"
     ]
    }
   ],
   "source": [
    "%run programa-calculo-imc.py"
   ]
  },
  {
   "cell_type": "markdown",
   "metadata": {},
   "source": [
    "### Exercício"
   ]
  },
  {
   "cell_type": "markdown",
   "metadata": {
    "collapsed": true
   },
   "source": [
    "Elabore um programa que pergunte ao usuário a sua idade e seu nome. Mostre uma mensagem a ele dizendo em que ano ele terá 100 anos de idade. O usuário não irá inserir o ano atual!\n",
    "Exercício adicional: a idade da pessoa deve ser o número de vezes que a mensagem é exibida. Se o usuário tem 27 anos de idade, por exemplo, mostrar a mensagem 27 vezes, em linhas separadas."
   ]
  },
  {
   "cell_type": "markdown",
   "metadata": {},
   "source": [
    "### Resposta"
   ]
  },
  {
   "cell_type": "code",
   "execution_count": 3,
   "metadata": {},
   "outputs": [
    {
     "name": "stdout",
     "output_type": "stream",
     "text": [
      "Qual é seu nome?Bruno\n",
      "Qual é sua idade?2\n",
      "Você completará 100 anos de idade em 2115\n",
      "Exercício adicional\n",
      "Você completará 100 anos de idade em 2115\n",
      "Você completará 100 anos de idade em 2115\n"
     ]
    }
   ],
   "source": [
    "import datetime\n",
    "now = datetime.datetime.now()\n",
    "ano_atual = now.year\n",
    "\n",
    "nome = input(\"Qual é seu nome?\")\n",
    "idade = int(input(\"Qual é sua idade?\"))\n",
    "\n",
    "cem_anos = - idade + 100 + now.year - 1\n",
    "\n",
    "print(\"Você completará 100 anos de idade em\", cem_anos)\n",
    "\n",
    "print(\"Exercício adicional\")\n",
    "\n",
    "i = 1 #contador\n",
    "\n",
    "while i <= idade:\n",
    "    print(\"Você completará 100 anos de idade em\", cem_anos)\n",
    "    i += 1"
   ]
  },
  {
   "cell_type": "markdown",
   "metadata": {
    "collapsed": true
   },
   "source": [
    "### Exercício"
   ]
  },
  {
   "cell_type": "markdown",
   "metadata": {},
   "source": [
    "O que acontece se você multiplicar uma string por um número?"
   ]
  },
  {
   "cell_type": "markdown",
   "metadata": {},
   "source": [
    "Cria-se uma string com n expressões concatenadas daquela string"
   ]
  },
  {
   "cell_type": "code",
   "execution_count": null,
   "metadata": {
    "collapsed": true
   },
   "outputs": [],
   "source": []
  }
 ],
 "metadata": {
  "kernelspec": {
   "display_name": "Python 3",
   "language": "python",
   "name": "python3"
  },
  "language_info": {
   "codemirror_mode": {
    "name": "ipython",
    "version": 3
   },
   "file_extension": ".py",
   "mimetype": "text/x-python",
   "name": "python",
   "nbconvert_exporter": "python",
   "pygments_lexer": "ipython3",
   "version": "3.6.1"
  }
 },
 "nbformat": 4,
 "nbformat_minor": 2
}
