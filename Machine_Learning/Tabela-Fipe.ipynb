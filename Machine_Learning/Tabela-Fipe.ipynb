{
 "cells": [
  {
   "cell_type": "markdown",
   "metadata": {},
   "source": [
    "# Modelo da tabela Fipe"
   ]
  },
  {
   "cell_type": "markdown",
   "metadata": {},
   "source": [
    "Lalala descrição"
   ]
  },
  {
   "cell_type": "code",
   "execution_count": null,
   "metadata": {},
   "outputs": [],
   "source": [
    "# Possível algoritmo para calcular o preço de um carro\n",
    "\n",
    "# Necessário para pegar o ano atual\n",
    "import datetime\n",
    "now = datetime.datetime.now()\n",
    "ano_atual = now.year\n",
    "\n",
    "# Parâmetros de entrada: Preço de compra, ano do carro, número de donos e quilometragem\n",
    "# Aqui os dados são inseridos pelo usuário, porém poderiam ser extraídos de uma tabela\n",
    "preco_compra = float(input(\"Qual foi o preço de compra do carro? (Não use vírgulas ou pontos). R$ \"))\n",
    "ano_fabricacao = int(input(\"Qual é o ano de fabricação do carro? \"))\n",
    "km = float(input(\"Qual é a quilometragem do carro? (Não use vírgulas ou pontos). \"))\n",
    "donos = int(input(\"Quantos foram os donos anteriores? \"))\n",
    "\n",
    "# Vamos atribuir inicialmente o valor atual do carro ao seu preço de compra\n",
    "valor_atual = preco_compra\n",
    "\n",
    "# Aqui começam as deduções/cálculos\n",
    "# Vamos supor que a cada 10.000 km o carro perca 5% de seu valor\n",
    "valor_atual = (1 - 0.05)**round(km/10000,0) * valor_atual\n",
    "\n",
    "# Também, a cada 1 ano de \"idade\", o carro perde 1,5% de seu valor de mercado\n",
    "valor_atual = (1-0.015)**(ano_atual - ano_fabricacao) * valor_atual\n",
    "\n",
    "# Considerando a quantidade de donos anteriores\n",
    "if donos >= 2:\n",
    "    valor_atual = 0.95 * valor_atual\n",
    "elif donos == 1:\n",
    "    valor_atual = 1.02 * valor_atual\n",
    "\n",
    "# Exibindo o preço do carro\n",
    "print(\"Valor atual: R$ \" + '{0:.2f}'.format(valor_atual))\n"
   ]
  },
  {
   "cell_type": "code",
   "execution_count": null,
   "metadata": {
    "collapsed": true
   },
   "outputs": [],
   "source": []
  },
  {
   "cell_type": "code",
   "execution_count": null,
   "metadata": {
    "collapsed": true
   },
   "outputs": [],
   "source": []
  }
 ],
 "metadata": {
  "kernelspec": {
   "display_name": "Python 3",
   "language": "python",
   "name": "python3"
  },
  "language_info": {
   "codemirror_mode": {
    "name": "ipython",
    "version": 3
   },
   "file_extension": ".py",
   "mimetype": "text/x-python",
   "name": "python",
   "nbconvert_exporter": "python",
   "pygments_lexer": "ipython3",
   "version": "3.6.1"
  }
 },
 "nbformat": 4,
 "nbformat_minor": 2
}
