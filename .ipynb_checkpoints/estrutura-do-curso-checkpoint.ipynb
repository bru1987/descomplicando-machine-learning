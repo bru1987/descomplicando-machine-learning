{
 "cells": [
  {
   "cell_type": "markdown",
   "metadata": {},
   "source": [
    "# Estrutura do curso"
   ]
  },
  {
   "cell_type": "markdown",
   "metadata": {},
   "source": [
    "Seja bem-vindo ao curso lalala"
   ]
  },
  {
   "cell_type": "markdown",
   "metadata": {},
   "source": [
    "- Introdução a Python\n",
    "    - Introdução\n",
    "    - Tipos de dados\n",
    "    - Operações numéricas e condicionais\n",
    "    - Loops\n",
    "    - Funções\n",
    "    - Mais sobre tipos de dados\n",
    "    - POO\n",
    "    - ...\n",
    "    - Projetos Introducao a python\n",
    "- Manipulação de dados com Python\n",
    "    - ...\n",
    "- Visualização de dados com Python\n",
    "    - ...\n",
    "- Python para Machine Learning\n",
    "    - O que é Machine Learning\n",
    "    - Lalala\n",
    "    - Projetos Python para Machine Learning\n",
    "- Fundamentos em Matematica para Machine Learning\n",
    "    - Cálculo para Machine Learning\n",
    "    - Estatística para Machine Learning\n",
    "    - ...\n",
    "- Machine Learning\n",
    "    - Intro para ML\n",
    "    - Supervised,unsupervised and reinforcement learning\n",
    "    - Regressao Linear\n",
    "    - Regresao Linear com python + projetos\n",
    "- Redes Neurais Artificiais\n",
    "    - RNA com Python\n",
    "    - CNN e aplicações"
   ]
  },
  {
   "cell_type": "code",
   "execution_count": null,
   "metadata": {
    "collapsed": true
   },
   "outputs": [],
   "source": []
  }
 ],
 "metadata": {
  "kernelspec": {
   "display_name": "Python 3",
   "language": "python",
   "name": "python3"
  },
  "language_info": {
   "codemirror_mode": {
    "name": "ipython",
    "version": 3
   },
   "file_extension": ".py",
   "mimetype": "text/x-python",
   "name": "python",
   "nbconvert_exporter": "python",
   "pygments_lexer": "ipython3",
   "version": "3.6.1"
  }
 },
 "nbformat": 4,
 "nbformat_minor": 2
}
