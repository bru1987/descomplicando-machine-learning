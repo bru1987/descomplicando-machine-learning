{
 "cells": [
  {
   "cell_type": "markdown",
   "metadata": {},
   "source": [
    "Manipulação de dados com Python"
   ]
  },
  {
   "cell_type": "code",
   "execution_count": null,
   "metadata": {
    "collapsed": true
   },
   "outputs": [],
   "source": []
  },
  {
   "cell_type": "markdown",
   "metadata": {},
   "source": [
    "## Numpy"
   ]
  },
  {
   "cell_type": "markdown",
   "metadata": {},
   "source": [
    "Lalala"
   ]
  },
  {
   "cell_type": "code",
   "execution_count": 2,
   "metadata": {},
   "outputs": [
    {
     "name": "stdout",
     "output_type": "stream",
     "text": [
      "Matriz A\n",
      " [[1 1 3]\n",
      " [3 4 0]\n",
      " [4 0 3]]\n",
      "Matriz B\n",
      " [[1 4 0]\n",
      " [0 2 0]\n",
      " [1 1 1]]\n",
      "A matriz A tem a forma (3, 3)\n",
      "A matriz A tem a forma (3, 3)\n",
      "Matriz A+B\n",
      " [[2 5 3]\n",
      " [3 6 0]\n",
      " [5 1 4]]\n",
      "Matriz A-B\n",
      " [[ 0 -3  3]\n",
      " [ 3  2  0]\n",
      " [ 3 -1  2]]\n",
      "Matriz A*B elementwise\n",
      " [[ 4  9  3]\n",
      " [ 3 20  0]\n",
      " [ 7 19  3]]\n",
      "Matriz A*B\n",
      " [[1 4 0]\n",
      " [0 8 0]\n",
      " [4 0 3]]\n",
      "Matriz Identidade\n",
      " [[1. 0. 0.]\n",
      " [0. 1. 0.]\n",
      " [0. 0. 1.]]\n",
      "Matriz com 1's\n",
      " [[1. 1. 1.]\n",
      " [1. 1. 1.]\n",
      " [1. 1. 1.]]\n"
     ]
    },
    {
     "name": "stderr",
     "output_type": "stream",
     "text": [
      "/Users/apple/anaconda/lib/python3.6/site-packages/ipykernel_launcher.py:7: DeprecationWarning: This function is deprecated. Please call randint(0, 4 + 1) instead\n",
      "  import sys\n",
      "/Users/apple/anaconda/lib/python3.6/site-packages/ipykernel_launcher.py:9: DeprecationWarning: This function is deprecated. Please call randint(0, 4 + 1) instead\n",
      "  if __name__ == '__main__':\n"
     ]
    }
   ],
   "source": [
    "# -*- coding: utf-8 -*-\n",
    "\n",
    "# Definindo numpy\n",
    "import numpy as np\n",
    "\n",
    "# Criando uma matriz\n",
    "a = np.random.random_integers(0, 4, (3, 3))\n",
    "print (\"Matriz A\\n\", a)\n",
    "b = np.random.random_integers(0, 4, (3, 3))\n",
    "print (\"Matriz B\\n\" ,b)\n",
    "\n",
    "# Tomando as dimensões de uma matriz\n",
    "print (\"A matriz A tem a forma\", a.shape)\n",
    "print (\"A matriz A tem a forma\", b.shape)\n",
    "\n",
    "# Fazendo cálculos simples (soma, subtração, multiplicação e divisão)\n",
    "# Soma de matrizes\n",
    "print(\"Matriz A+B\\n\", np.add(a,b))\n",
    "# Subtração de matrizes\n",
    "print(\"Matriz A-B\\n\", np.subtract(a,b))\n",
    "# Multiplicação de matrizes\n",
    "print(\"Matriz A*B elementwise\\n\", np.dot(a,b))\n",
    "# Multiplicação elementwise\n",
    "print(\"Matriz A*B\\n\", np.multiply(a,b))\n",
    "# Criando uma matriz identidade\n",
    "print(\"Matriz Identidade\\n\", np.identity(3))\n",
    "# Criando uma matriz de um's\n",
    "print(\"Matriz com 1's\\n\", np.ones((3,3)))"
   ]
  },
  {
   "cell_type": "code",
   "execution_count": null,
   "metadata": {
    "collapsed": true
   },
   "outputs": [],
   "source": []
  }
 ],
 "metadata": {
  "kernelspec": {
   "display_name": "Python 3",
   "language": "python",
   "name": "python3"
  },
  "language_info": {
   "codemirror_mode": {
    "name": "ipython",
    "version": 3
   },
   "file_extension": ".py",
   "mimetype": "text/x-python",
   "name": "python",
   "nbconvert_exporter": "python",
   "pygments_lexer": "ipython3",
   "version": "3.6.1"
  }
 },
 "nbformat": 4,
 "nbformat_minor": 2
}
