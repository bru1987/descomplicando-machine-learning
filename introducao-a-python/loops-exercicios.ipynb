{
 "cells": [
  {
   "cell_type": "code",
   "execution_count": null,
   "metadata": {
    "collapsed": true
   },
   "outputs": [],
   "source": []
  },
  {
   "cell_type": "markdown",
   "metadata": {},
   "source": [
    "## Galinha pintadinha"
   ]
  },
  {
   "cell_type": "markdown",
   "metadata": {},
   "source": [
    "Crie um programa que imprima, na tela do usuário, a letra da música abaixo até 25 elefantes!"
   ]
  },
  {
   "cell_type": "markdown",
   "metadata": {},
   "source": [
    "1 elefante incomoda muita gente\n",
    "\n",
    "2 elefantes incomodam, incomodam muito mais\n",
    "\n",
    "3 elefantes incomodam muita gente\n",
    "\n",
    "4 elefantes incomodam, incomodam, incomodam, incomodam muito mais\n",
    "\n",
    "5 elefantes incomodam muita gente\n",
    "\n",
    "6 elefantes incomodam, incomodam, incomodam, incomodam, incomodam, incomodam muito mais"
   ]
  },
  {
   "cell_type": "code",
   "execution_count": null,
   "metadata": {
    "collapsed": true
   },
   "outputs": [],
   "source": []
  }
 ],
 "metadata": {
  "kernelspec": {
   "display_name": "Python 3",
   "language": "python",
   "name": "python3"
  },
  "language_info": {
   "codemirror_mode": {
    "name": "ipython",
    "version": 3
   },
   "file_extension": ".py",
   "mimetype": "text/x-python",
   "name": "python",
   "nbconvert_exporter": "python",
   "pygments_lexer": "ipython3",
   "version": "3.6.1"
  }
 },
 "nbformat": 4,
 "nbformat_minor": 2
}
