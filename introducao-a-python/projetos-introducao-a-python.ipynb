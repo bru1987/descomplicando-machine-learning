{
 "cells": [
  {
   "cell_type": "markdown",
   "metadata": {},
   "source": [
    "Aqui vou testar meus projetos, jogando o código direto!"
   ]
  },
  {
   "cell_type": "markdown",
   "metadata": {},
   "source": [
    "## Código Morsi"
   ]
  },
  {
   "cell_type": "markdown",
   "metadata": {},
   "source": [
    "Lalala"
   ]
  },
  {
   "cell_type": "code",
   "execution_count": 1,
   "metadata": {},
   "outputs": [
    {
     "name": "stdout",
     "output_type": "stream",
     "text": [
      "Insira uma letra: A\n",
      "Mensagem em código Morsi:  ***\n"
     ]
    }
   ],
   "source": [
    "dic_morsi ={\n",
    "    'A' : \"***\",\n",
    "    'B' : \"-*-*\"\n",
    "}\n",
    "\n",
    "# Letra inserida pelo usuário\n",
    "letra = input('Insira uma letra: ')\n",
    "\n",
    "# -1 is the default value if there is no keys that matches the input\n",
    "print('Mensagem em código Morsi: ', dic_morsi.get(letra, \"Insira caracteres válidos\"))"
   ]
  },
  {
   "cell_type": "markdown",
   "metadata": {
    "collapsed": true
   },
   "source": [
    "Vamos agora ler toda uma string de forma que a mensagem corra e possamos obter todos os caracteres dela. Faremos isso usando somente as letras A e B, a princípio. Também, somente exibiremos a lista sem concatenar a resposta/expressão completa. A resposta quase final do exercício está comentada. Devo separar caracteres da mesma palavra? Como separar caracteres em palavras diferentes?"
   ]
  },
  {
   "cell_type": "code",
   "execution_count": 21,
   "metadata": {},
   "outputs": [
    {
     "name": "stdout",
     "output_type": "stream",
     "text": [
      "Insira uma mensagem utilizando somente os caracteres A e B, sem espaços ou pontuações: \n",
      "0\n",
      "Mensagem em código Morsi:  Insira caracteres válidos\n"
     ]
    }
   ],
   "source": [
    "dic_morsi ={\n",
    "    'A' : \"***\",\n",
    "    'B' : \"-*-*\"\n",
    "}\n",
    "\n",
    "# Letra inserida pelo usuário\n",
    "mensagem_original = input('Insira uma mensagem utilizando somente os caracteres A e B, sem espaços ou pontuações: ')\n",
    "\n",
    "numero_de_caracteres = len(mensagem_original)\n",
    "\n",
    "# Apenas para conferência\n",
    "print(numero_de_caracteres)\n",
    "\n",
    "# Inicializando nosso contador\n",
    "contador = 0\n",
    "mensagem_morsi = \"\"\n",
    "\n",
    "while contador < numero_de_caracteres:\n",
    "    caractere_original = mensagem_original[contador]\n",
    "    caractere_morsi = dic_morsi.get(caractere_original, \"Insira caracteres válidos\")\n",
    "    print(caractere_morsi)\n",
    "    mensagem_morsi += caractere_morsi\n",
    "    contador += 1\n",
    "\n",
    "# Como colocar a mensagem de erro caso a pessoa insira algum valor ilegal?\n",
    "# Para concatenar a resposta: mensagem_morsi += caractere\n",
    "# print(\"Mensagem em código Morsi: \", mensagem_morsi)\n",
    "print('Mensagem em código Morsi: ', dic_morsi.get(mensagem_original, \"Insira caracteres válidos\"))"
   ]
  },
  {
   "cell_type": "markdown",
   "metadata": {},
   "source": [
    "Colocar o código acima em um loop para que a mensagem \"corra\" e seja exibida na medida que o programa a lê."
   ]
  }
 ],
 "metadata": {
  "kernelspec": {
   "display_name": "Python 3",
   "language": "python",
   "name": "python3"
  },
  "language_info": {
   "codemirror_mode": {
    "name": "ipython",
    "version": 3
   },
   "file_extension": ".py",
   "mimetype": "text/x-python",
   "name": "python",
   "nbconvert_exporter": "python",
   "pygments_lexer": "ipython3",
   "version": "3.6.1"
  }
 },
 "nbformat": 4,
 "nbformat_minor": 2
}
