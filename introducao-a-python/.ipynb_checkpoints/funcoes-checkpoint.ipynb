{
 "cells": [
  {
   "cell_type": "markdown",
   "metadata": {},
   "source": [
    "# Funções"
   ]
  },
  {
   "cell_type": "markdown",
   "metadata": {},
   "source": [
    "..."
   ]
  },
  {
   "cell_type": "code",
   "execution_count": null,
   "metadata": {
    "collapsed": true
   },
   "outputs": [],
   "source": [
    "Usar em qualquer operacao que exige um trecho de codigo que e usado varias vezes"
   ]
  },
  {
   "cell_type": "code",
   "execution_count": null,
   "metadata": {
    "collapsed": true
   },
   "outputs": [],
   "source": []
  },
  {
   "cell_type": "code",
   "execution_count": 2,
   "metadata": {},
   "outputs": [
    {
     "name": "stdout",
     "output_type": "stream",
     "text": [
      "ECO!ECO!ECO!\n"
     ]
    }
   ],
   "source": [
    "def funcao_eco(palavra):\n",
    "    print(palavra*3)\n",
    "    \n",
    "funcao_eco('ECO!')"
   ]
  },
  {
   "cell_type": "code",
   "execution_count": null,
   "metadata": {
    "collapsed": true
   },
   "outputs": [],
   "source": []
  },
  {
   "cell_type": "code",
   "execution_count": null,
   "metadata": {
    "collapsed": true
   },
   "outputs": [],
   "source": [
    "def bhaskara():\n",
    "    delta = b**2 - 4*a*c\n",
    "    x_1 = (-b+sqrt(delta))2\n",
    "    x_2 = (-b+sqrt(delta))2\n",
    "    \n",
    "    return x_1, x_2"
   ]
  },
  {
   "cell_type": "code",
   "execution_count": null,
   "metadata": {
    "collapsed": true
   },
   "outputs": [],
   "source": []
  },
  {
   "cell_type": "code",
   "execution_count": null,
   "metadata": {
    "collapsed": true
   },
   "outputs": [],
   "source": [
    "def input_usuario():\n",
    "    while True:\n",
    "        x = input(\"Insira um número inteiro: \")\n",
    "        try:\n",
    "            valor = int(x)\n",
    "            if valor >= 0:\n",
    "                break\n",
    "            else:\n",
    "                print(\"O valor não pode ser negativo, tente novamente\")\n",
    "        except ValueError:\n",
    "            print(\"O valor deve ser inteiro, tente novamente\")\n",
    "    return print(\"Valor inserido: \", valor)\n",
    "\n",
    "input_usuario()"
   ]
  },
  {
   "cell_type": "markdown",
   "metadata": {
    "collapsed": true
   },
   "source": [
    "As funções em Python são definidas da forma abaixo. Vamos criar uma função que calcula a diagonal de um quadrado dado o comprimento do seu lado:"
   ]
  },
  {
   "cell_type": "code",
   "execution_count": 14,
   "metadata": {
    "collapsed": true
   },
   "outputs": [],
   "source": [
    "def diagonal(lado):\n",
    "    diagonal = lado*2**0.5\n",
    "    print(diagonal)\n",
    "    return diagonal"
   ]
  },
  {
   "cell_type": "markdown",
   "metadata": {},
   "source": [
    "Neste caso, além de printar a diagonal, o programa retorna o valor desta diagonal pela função. Para finalizar esta função, devemos envolvê-la no main(), fazendo com que o programa original a chame. Repare que no código abaixo pedimos para que o usuário insira o valor do lado do quadrado."
   ]
  },
  {
   "cell_type": "code",
   "execution_count": 1,
   "metadata": {},
   "outputs": [
    {
     "name": "stdout",
     "output_type": "stream",
     "text": [
      "Medida do lado:2\n",
      "2.8284271247461903\n"
     ]
    }
   ],
   "source": [
    "def diagonal(lado):\n",
    "    diagonal = lado*(2**0.5)\n",
    "    print(diagonal)\n",
    "\n",
    "def main():\n",
    "    lado = int(input(\"Medida do lado:\"))\n",
    "    diagonal(lado)\n",
    "\n",
    "if __name__ == \"__main__\":\n",
    "    main()"
   ]
  },
  {
   "cell_type": "markdown",
   "metadata": {},
   "source": [
    "At run time, functions must be defined by the execution of a \"def\" before they are called. It's typical to def a main() function towards the bottom of the file with the functions it calls above it."
   ]
  },
  {
   "cell_type": "markdown",
   "metadata": {},
   "source": [
    "### main()"
   ]
  },
  {
   "cell_type": "markdown",
   "metadata": {},
   "source": [
    "The outermost statements in a Python file, or \"module\", do its one-time setup — those statements run from top to bottom the first time the module is imported somewhere, setting up its variables and functions. A Python module can be run directly — as above \"python hello.py Bob\" — or it can be imported and used by some other module. When a Python file is run directly, the special variable \"__name__\" is set to \"__main__\". Therefore, it's common to have the boilerplate if __name__ ==... shown above to call a main() function when the module is run directly, but not when the module is imported by some other module.\n",
    "\n",
    "In a standard Python program, the list sys.argv contains the command-line arguments in the standard way with sys.argv[0] being the program itself, sys.argv[1] the first argument, and so on. If you know about argc, or the number of arguments, you can simply request this value from Python with len(sys.argv), just like we did in the interactive interpreter code above when requesting the length of a string. In general, len() can tell you how long a string is, the number of elements in lists and tuples (another array-like data structure), and the number of key-value pairs in a dictionary."
   ]
  },
  {
   "cell_type": "code",
   "execution_count": null,
   "metadata": {
    "collapsed": true
   },
   "outputs": [],
   "source": []
  }
 ],
 "metadata": {
  "kernelspec": {
   "display_name": "Python 3",
   "language": "python",
   "name": "python3"
  },
  "language_info": {
   "codemirror_mode": {
    "name": "ipython",
    "version": 3
   },
   "file_extension": ".py",
   "mimetype": "text/x-python",
   "name": "python",
   "nbconvert_exporter": "python",
   "pygments_lexer": "ipython3",
   "version": "3.6.1"
  }
 },
 "nbformat": 4,
 "nbformat_minor": 2
}
