{
 "cells": [
  {
   "cell_type": "markdown",
   "metadata": {},
   "source": [
    "# Exercícios - Listas"
   ]
  },
  {
   "cell_type": "markdown",
   "metadata": {
    "collapsed": true
   },
   "source": [
    "### Exercício"
   ]
  },
  {
   "cell_type": "markdown",
   "metadata": {
    "collapsed": true
   },
   "source": [
    "Dada a lista de emails abaixo, crie umanova lista com somente o provedor de cada email. ao fim, coloque a lista toda em lower caps.\n",
    "Exemplo: \"bru1987@Gmail.com\" deve se tornar \"gmail\""
   ]
  },
  {
   "cell_type": "code",
   "execution_count": 5,
   "metadata": {},
   "outputs": [
    {
     "name": "stdout",
     "output_type": "stream",
     "text": [
      "['bru1987@Gmail.com', 'PeDro_braganca@uol.com.br', 'juju_surfista@bol.com.br', 'THI_11@YAHOO.COM', 'safa_deza@yahoo.com.br', 'GUSTAVO_ALMEIDA@HOTmail.com']\n"
     ]
    }
   ],
   "source": [
    "lista_de_emails=[\"bru1987@Gmail.com\",\"PeDro_braganca@uol.com.br\",\"juju_surfista@bol.com.br\",\"THI_11@YAHOO.COM\",\"safa_deza@yahoo.com.br\",\"GUSTAVO_ALMEIDA@HOTmail.com\"]\n",
    "print(lista_de_emails)"
   ]
  },
  {
   "cell_type": "markdown",
   "metadata": {},
   "source": [
    "### Resposta"
   ]
  },
  {
   "cell_type": "code",
   "execution_count": 21,
   "metadata": {},
   "outputs": [
    {
     "data": {
      "text/plain": [
       "'gmail'"
      ]
     },
     "execution_count": 21,
     "metadata": {},
     "output_type": "execute_result"
    }
   ],
   "source": [
    "## Primeiramente vamos fazer um teste, retirando o provedor de um dos emails\n",
    "\n",
    "email = \"bru1987@Gmail.com\"\n",
    "\n",
    "# Fazendo a primeira quebra na srtring, no caractere \"@\" e guardando em uma nova variável\n",
    "# Importante: o resultado será uma lista, queremos o segundo elemento da lista (index 1)\n",
    "resultado = email.split(\"@\")[1]\n",
    "# Fazendo a segunda quebra na srtring, no caractere \"@\"\n",
    "# Importante: o resultado será uma lista, queremos o primeiro elemento da lista (index 0)\n",
    "resultado = resultado.split(\".\")[0]\n",
    "# utilizando caixa baixa:\n",
    "resultado = resultado.lower()"
   ]
  },
  {
   "cell_type": "code",
   "execution_count": 29,
   "metadata": {},
   "outputs": [
    {
     "name": "stdout",
     "output_type": "stream",
     "text": [
      "['gmail', 'uol', 'bol', 'yahoo', 'yahoo', 'hotmail']\n"
     ]
    }
   ],
   "source": [
    "## Devemos iterar este código em todos os itens da lista acima\n",
    "nova_lista = []\n",
    "for i in range(1,len(lista_de_emails)+1):\n",
    "    resultado = lista_de_emails[i-1].split(\"@\")[1]\n",
    "    # Fazendo a segunda quebra na srtring, no caractere \"@\"\n",
    "    # Importante: o resultado será uma lista, queremos o primeiro elemento da lista (index 0)\n",
    "    resultado = resultado.split(\".\")[0]\n",
    "    # utilizando caixa baixa:\n",
    "    resultado = resultado.lower()\n",
    "    nova_lista.append(resultado)\n",
    "    \n",
    "print(nova_lista)"
   ]
  },
  {
   "cell_type": "code",
   "execution_count": 30,
   "metadata": {},
   "outputs": [
    {
     "name": "stdout",
     "output_type": "stream",
     "text": [
      "['gmail', 'uol', 'bol', 'yahoo', 'yahoo', 'hotmail']\n"
     ]
    }
   ],
   "source": [
    "## Podemos simplificar bastante código acima, porém a leitura do código fica comprometida\n",
    "nova_lista = []\n",
    "\n",
    "for i in range(1,len(lista_de_emails)+1):\n",
    "    resultado = ((lista_de_emails[i-1].split(\"@\")[1]).split(\".\")[0]).lower()\n",
    "    nova_lista.append(resultado)\n",
    "    \n",
    "print(a)"
   ]
  },
  {
   "cell_type": "markdown",
   "metadata": {},
   "source": [
    "### Exercício"
   ]
  },
  {
   "cell_type": "code",
   "execution_count": null,
   "metadata": {
    "collapsed": true
   },
   "outputs": [],
   "source": []
  },
  {
   "cell_type": "markdown",
   "metadata": {},
   "source": [
    "### Resposta"
   ]
  },
  {
   "cell_type": "code",
   "execution_count": null,
   "metadata": {
    "collapsed": true
   },
   "outputs": [],
   "source": []
  },
  {
   "cell_type": "markdown",
   "metadata": {},
   "source": [
    "### Exercício"
   ]
  },
  {
   "cell_type": "markdown",
   "metadata": {},
   "source": [
    "Dada a lista de números primos menores do que 100\n",
    "\n",
    "primos = [2, 3, 5, 7, 11, 13, 17, 19, 23, 29, 31, 37, 41, 43, 47, 53, 59, 61, 67, 71, 73, 79, 83, 89, 97]\n",
    "\n",
    "(não, 1 não é um número primo!) escreva um programa que crie uma nova lista com todos os elementos da lista de primos porém menores do que 25.\n",
    "\n",
    "Exercícios extras:\n",
    "\n",
    "(a) Conte o número de elementos desta lista\n",
    "\n",
    "(b) Escreva o exercício em uma linha de código\n",
    "\n",
    "(c) Deixe que o usuário insira um número de forma que, a lista a ser retornada, deve conter números menores do que aquele inserido pelo usuário (aqui você pode utilizar loops). Utilizar append para acrescentar os elementos ao seu vetor de resposta (caso guarde as respostas em outro vetor)."
   ]
  },
  {
   "cell_type": "markdown",
   "metadata": {},
   "source": [
    "### Resposta"
   ]
  },
  {
   "cell_type": "code",
   "execution_count": 1,
   "metadata": {},
   "outputs": [
    {
     "name": "stdout",
     "output_type": "stream",
     "text": [
      "[2, 3, 5, 7, 11, 13, 17, 19]\n",
      "O número de elementos desta lista é 25\n",
      "[2, 3, 5, 7, 11, 13, 17, 19]\n",
      "Insira o valor máximo para a lista: 12\n",
      "Números primos até 12 : [2, 3, 5, 7, 11]\n"
     ]
    }
   ],
   "source": [
    "primos = [2, 3, 5, 7, 11, 13, 17, 19, 23, 29, 31, 37, 41, 43, 47, 53, 59, 61, 67, 71, 73, 79, 83, 89, 97]\n",
    "\n",
    "primos_abaixo_de_25 = primos[0:8]\n",
    "print(primos_abaixo_de_25)\n",
    "\n",
    "# (a) Exibindo o número de elementos da lista\n",
    "print(\"O número de elementos desta lista é\", len(primos))\n",
    "\n",
    "# (b) Uma só linha\n",
    "print(primos[0:8])\n",
    "\n",
    "# (c)Usando o input do usuário\n",
    "maximo = int(input(\"Insira o valor máximo para a lista: \"))\n",
    "nova_lista = []\n",
    "\n",
    "for i in primos:\n",
    "    if i <= maximo:\n",
    "        nova_lista.append(i) \n",
    "        \n",
    "print(\"Números primos até\", maximo,\":\",nova_lista)"
   ]
  },
  {
   "cell_type": "code",
   "execution_count": null,
   "metadata": {
    "collapsed": true
   },
   "outputs": [],
   "source": []
  }
 ],
 "metadata": {
  "kernelspec": {
   "display_name": "Python 3",
   "language": "python",
   "name": "python3"
  },
  "language_info": {
   "codemirror_mode": {
    "name": "ipython",
    "version": 3
   },
   "file_extension": ".py",
   "mimetype": "text/x-python",
   "name": "python",
   "nbconvert_exporter": "python",
   "pygments_lexer": "ipython3",
   "version": "3.6.1"
  }
 },
 "nbformat": 4,
 "nbformat_minor": 2
}
