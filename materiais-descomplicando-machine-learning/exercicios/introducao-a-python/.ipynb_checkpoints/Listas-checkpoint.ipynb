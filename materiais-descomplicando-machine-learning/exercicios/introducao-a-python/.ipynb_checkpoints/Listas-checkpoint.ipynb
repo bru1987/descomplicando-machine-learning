{
 "cells": [
  {
   "cell_type": "markdown",
   "metadata": {},
   "source": [
    "# Listas"
   ]
  },
  {
   "cell_type": "markdown",
   "metadata": {},
   "source": [
    "A estrutura de dados mais básica do Python é a sequência. A cada elemento desta sequência é atribuído um número, correspondente à sua posição, ou index, como chamamos. Tenha em mente que o primeiro index é zero, o segundo é 1 e assim por diante.\n",
    "\n",
    "Python possui seis tipos de sequências embutidos nele, porém as mais comuns são listas e tuples. Vamos estudar, neste capítulo, as listas.\n",
    "\n",
    "Existem algumas operações que você pode efetuar com estas sequências. Estas operações incluem indexação (...), slicing(...), soma(...), multiplicação(...) e checagem (para analisar se um número pertence a aquela sequênca, por exemplo). Ainda, o Python possui algumas funções para contagem de elementos de uma lista, busca pelo maior elemento e muito mais.\n",
    "\n",
    "No código abaixo, vamos criar uma lista e buscar o primeiro elemento dela:"
   ]
  },
  {
   "cell_type": "code",
   "execution_count": 2,
   "metadata": {},
   "outputs": [
    {
     "data": {
      "text/plain": [
       "1"
      ]
     },
     "execution_count": 2,
     "metadata": {},
     "output_type": "execute_result"
    }
   ],
   "source": [
    "# Criando nossa primeira lista\n",
    "lista = [1,3,90,0]\n",
    "\n",
    "# Mostrar o primeiro e o último elemento da lista\n",
    "lista[0]"
   ]
  },
  {
   "cell_type": "markdown",
   "metadata": {},
   "source": [
    "Observe que o primeiro elemento possui index, portanto quando queremos o primeiro elemento de uma lista, devemos escrever `nome_da_lista[0]`. Você pode criar uma lista com números, strings, caracteres ou qualquer putro tipo de dado"
   ]
  },
  {
   "cell_type": "markdown",
   "metadata": {},
   "source": [
    "Listas são um tipo de dados bastante versátil em Python, de forma que podem ser escritos com valores separados por vírgulas entre colchetes.Importante: os elementos de uma lista não precisam ter o mesmo tipo de dados:"
   ]
  },
  {
   "cell_type": "code",
   "execution_count": 12,
   "metadata": {},
   "outputs": [
    {
     "name": "stdout",
     "output_type": "stream",
     "text": [
      "3\n",
      "1\n",
      "demais!\n"
     ]
    }
   ],
   "source": [
    "# Criando três listas: uma somente com strings, outra com inteiros, e a terceira misturando estes dois tipos\n",
    "lista_1 = [\"Você\", \"é\", \"demais!\"];\n",
    "lista_2 = [1, 2, 3, 4, 5];\n",
    "lista_3 = [1, \"b\", 3, \"d\"]\n",
    "\n",
    "# Exibindo alguns valores\n",
    "\n",
    "print(lista_2[2])\n",
    "print(lista_3[0])\n",
    "print(lista_1[2])"
   ]
  },
  {
   "cell_type": "markdown",
   "metadata": {},
   "source": [
    "Podemos criar uma lista a partir dos elementos das três listas acima:"
   ]
  },
  {
   "cell_type": "code",
   "execution_count": 4,
   "metadata": {},
   "outputs": [
    {
     "name": "stdout",
     "output_type": "stream",
     "text": [
      "[3, 1, 'demais!']\n"
     ]
    },
    {
     "data": {
      "text/plain": [
       "list"
      ]
     },
     "execution_count": 4,
     "metadata": {},
     "output_type": "execute_result"
    }
   ],
   "source": [
    "a = [lista_2[2], lista_3[0], lista_1[2]]\n",
    "print (a)\n",
    "\n",
    "# Para provar que de fato temos uma lista com estes três elementos:\n",
    "type(a)"
   ]
  },
  {
   "cell_type": "markdown",
   "metadata": {},
   "source": [
    "Você pode atualizar um ou mais elementos de uma lista utilizando o operador de atribuição `=`, porém esta é uma maneira feia de fazer isso!"
   ]
  },
  {
   "cell_type": "code",
   "execution_count": 5,
   "metadata": {},
   "outputs": [
    {
     "name": "stdout",
     "output_type": "stream",
     "text": [
      "[1, 3, 5, 7, 89]\n"
     ]
    }
   ],
   "source": [
    "lista_atribuicao = [1,3,5,7,9]\n",
    "lista_atribuicao[4] = 89\n",
    "print(lista_atribuicao)"
   ]
  },
  {
   "cell_type": "markdown",
   "metadata": {},
   "source": [
    "\"E qual é a maneira bonita?\", você deve estar se perguntando. A maneira bonita é utilizar insert(), da seguinte forma:"
   ]
  },
  {
   "cell_type": "code",
   "execution_count": 6,
   "metadata": {},
   "outputs": [
    {
     "name": "stdout",
     "output_type": "stream",
     "text": [
      "[1, 3, 5, 7, 89, 9]\n"
     ]
    }
   ],
   "source": [
    "lista_inserindo = [1,3,5,7,9]\n",
    "lista_inserindo.insert(4,89)\n",
    "print(lista_inserindo)"
   ]
  },
  {
   "cell_type": "markdown",
   "metadata": {},
   "source": [
    "Para acrescentar um elemento à última posição da lista, podemos fazê-lo utilizando `append()`:"
   ]
  },
  {
   "cell_type": "code",
   "execution_count": 7,
   "metadata": {},
   "outputs": [
    {
     "name": "stdout",
     "output_type": "stream",
     "text": [
      "Updated List :  [1, 2, 3, 4, 5, 'Agora acabou']\n"
     ]
    }
   ],
   "source": [
    "lista_append = [1,2,3,4,5]\n",
    "lista_append.append(\"Agora acabou\")\n",
    "print (\"Updated List : \", lista_append)"
   ]
  },
  {
   "cell_type": "markdown",
   "metadata": {},
   "source": [
    "Você pode também deletar elementos em uma lista. Você consegue dizer o que ocorre quando isso é feito?"
   ]
  },
  {
   "cell_type": "code",
   "execution_count": 8,
   "metadata": {},
   "outputs": [
    {
     "name": "stdout",
     "output_type": "stream",
     "text": [
      "[1, 3, 4, 5]\n"
     ]
    }
   ],
   "source": [
    "lista = [1,2,3,4,5]\n",
    "del(lista[1])\n",
    "print(lista)"
   ]
  },
  {
   "cell_type": "markdown",
   "metadata": {},
   "source": [
    "Exatamente: a lista agora contém um elemento a menos (o segundo elemento, correspondente ao index 1, foi apagado)."
   ]
  },
  {
   "cell_type": "markdown",
   "metadata": {},
   "source": [
    "### Basic List Operations"
   ]
  },
  {
   "cell_type": "code",
   "execution_count": 11,
   "metadata": {},
   "outputs": [
    {
     "name": "stdout",
     "output_type": "stream",
     "text": [
      "4\n",
      "[1, 2, 3, 4, 5, 1, 'b', 3, 'd']\n",
      "[1, 2, 3, 4, 5, 1, 2, 3, 4, 5, 1, 2, 3, 4, 5, 1, 2, 3, 4, 5]\n",
      "False\n"
     ]
    }
   ],
   "source": [
    "# Contando o número de elementos em uma lista\n",
    "elementos = len(lista_3)\n",
    "# Concatenando listas\n",
    "nova_lista = lista_2 + lista_3\n",
    "# Multiplicação por uma constante\n",
    "multiplicacao = lista_2*4\n",
    "# \"Petence a...\"\n",
    "pertence = 2 in lista_3\n",
    "\n",
    "print(elementos)\n",
    "print(nova_lista)\n",
    "print(multiplicacao)\n",
    "print(pertence)"
   ]
  },
  {
   "cell_type": "markdown",
   "metadata": {},
   "source": [
    "## Indexing, Slicing, and Matrices"
   ]
  },
  {
   "cell_type": "markdown",
   "metadata": {},
   "source": [
    "Because lists are sequences, indexing and slicing work the same way for lists as they do for strings.\n",
    "\n",
    "Assuming following input"
   ]
  },
  {
   "cell_type": "code",
   "execution_count": 27,
   "metadata": {
    "collapsed": true
   },
   "outputs": [],
   "source": [
    "L = [\"eu\", \"Eu\", \"EU!!!\"]"
   ]
  },
  {
   "cell_type": "code",
   "execution_count": 28,
   "metadata": {},
   "outputs": [
    {
     "data": {
      "text/plain": [
       "'EU!!!'"
      ]
     },
     "execution_count": 28,
     "metadata": {},
     "output_type": "execute_result"
    }
   ],
   "source": [
    "L[2]"
   ]
  },
  {
   "cell_type": "markdown",
   "metadata": {},
   "source": [
    "No comando acima, tomamos o elemento de index 2 da lista (ou seja, o terceiro elemento)"
   ]
  },
  {
   "cell_type": "code",
   "execution_count": 29,
   "metadata": {},
   "outputs": [
    {
     "data": {
      "text/plain": [
       "'Eu'"
      ]
     },
     "execution_count": 29,
     "metadata": {},
     "output_type": "execute_result"
    }
   ],
   "source": [
    "L[-2]"
   ]
  },
  {
   "cell_type": "markdown",
   "metadata": {},
   "source": [
    "No comando acima, tomamos o elemento de número 2 porém agora contando a partir da direita"
   ]
  },
  {
   "cell_type": "code",
   "execution_count": 30,
   "metadata": {},
   "outputs": [
    {
     "data": {
      "text/plain": [
       "['Eu', 'EU!!!']"
      ]
     },
     "execution_count": 30,
     "metadata": {},
     "output_type": "execute_result"
    }
   ],
   "source": [
    "L[1:]"
   ]
  },
  {
   "cell_type": "markdown",
   "metadata": {},
   "source": [
    "No comando acima, tomamos os elementos de 1 até o final da lista (dois elementos no total)"
   ]
  }
 ],
 "metadata": {
  "kernelspec": {
   "display_name": "Python 3",
   "language": "python",
   "name": "python3"
  },
  "language_info": {
   "codemirror_mode": {
    "name": "ipython",
    "version": 3
   },
   "file_extension": ".py",
   "mimetype": "text/x-python",
   "name": "python",
   "nbconvert_exporter": "python",
   "pygments_lexer": "ipython3",
   "version": "3.6.1"
  }
 },
 "nbformat": 4,
 "nbformat_minor": 2
}
