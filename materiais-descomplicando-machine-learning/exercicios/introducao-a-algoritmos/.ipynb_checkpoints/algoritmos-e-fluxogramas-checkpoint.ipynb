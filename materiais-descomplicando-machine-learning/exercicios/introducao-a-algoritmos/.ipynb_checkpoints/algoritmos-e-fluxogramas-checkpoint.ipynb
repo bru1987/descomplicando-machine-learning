{
 "cells": [
  {
   "cell_type": "markdown",
   "metadata": {},
   "source": [
    "Lalala"
   ]
  },
  {
   "cell_type": "markdown",
   "metadata": {},
   "source": [
    "# Algoritmos"
   ]
  },
  {
   "cell_type": "markdown",
   "metadata": {},
   "source": [
    "## O que é um algoritmo?"
   ]
  },
  {
   "cell_type": "markdown",
   "metadata": {},
   "source": [
    "Um algoritmo é um número finito de instruções que produzem um determinado resultado. Exemplos:\n",
    "\n",
    "- Sacar dinheiro no caixa eletrônico\n",
    "- Como sair de sua casa a pé e chegar na padaria\n",
    "- Como se preparar de manhã cedo para sair de casa (aqui, o primeiro passo do algoritmo, se levantar da cama, é o mais difícil!)  \n",
    "- Fibonacci"
   ]
  },
  {
   "cell_type": "markdown",
   "metadata": {},
   "source": [
    "TK posso fazer uma breve descrição de cada um destes \"problemas\" mostrando que, de fato, existem passos envolvidos"
   ]
  },
  {
   "cell_type": "markdown",
   "metadata": {},
   "source": [
    "## Porque a elaboração de um algoritmo é importante?"
   ]
  },
  {
   "cell_type": "markdown",
   "metadata": {},
   "source": [
    "- Identificação das variáveis de entrada\n",
    "- Lista de outputs\n",
    "- Formulação do problema (ou da solução do problema)"
   ]
  },
  {
   "cell_type": "markdown",
   "metadata": {},
   "source": [
    "# Fluxogramas"
   ]
  },
  {
   "cell_type": "code",
   "execution_count": null,
   "metadata": {
    "collapsed": true
   },
   "outputs": [],
   "source": []
  },
  {
   "cell_type": "markdown",
   "metadata": {},
   "source": [
    "## O que é um fluxograma?"
   ]
  },
  {
   "cell_type": "markdown",
   "metadata": {},
   "source": [
    "– A flowchart is another “language” for describing and expressing algorithms.\n",
    "\n",
    "– It is used to represent algorithm steps into graphical format.\n",
    "\n",
    "– A flowchart uses, in addition to words, geometric symbols to express different types operation."
   ]
  },
  {
   "cell_type": "markdown",
   "metadata": {},
   "source": [
    "Resolver um problema de programação utilizando fluxogramas e pseudocódigos permite com que você crie uma solução universal, ou seja, que pode ser implementada em qualquer linguagem."
   ]
  },
  {
   "cell_type": "markdown",
   "metadata": {},
   "source": [
    "TK colocar a imagem de um fluxograma"
   ]
  },
  {
   "cell_type": "code",
   "execution_count": null,
   "metadata": {
    "collapsed": true
   },
   "outputs": [],
   "source": []
  },
  {
   "cell_type": "markdown",
   "metadata": {},
   "source": [
    "### Vantagens de se criar um fluxograma"
   ]
  },
  {
   "cell_type": "markdown",
   "metadata": {},
   "source": [
    "1.It provides an easy way of communication because any other person besides the programmer can understand the way they are represented.\n",
    "\n",
    "2.It represents the data flow.\n",
    "\n",
    "3.It provides a clear overview of the entire program and solution. \n",
    "\n",
    "4. It checks the accuracy in logic flow.\n",
    "5. It documents the steps followed in an algorithm.\n",
    "6. It provides the facility for coding.\n",
    "7. It provides the way of modification of running program.\n",
    "8. They show all major elements and their relationship."
   ]
  },
  {
   "cell_type": "markdown",
   "metadata": {},
   "source": [
    "## Simbologia de fluxogramas"
   ]
  },
  {
   "cell_type": "code",
   "execution_count": null,
   "metadata": {
    "collapsed": true
   },
   "outputs": [],
   "source": []
  },
  {
   "cell_type": "markdown",
   "metadata": {},
   "source": [
    "<img src=\"../images-and-files/1.png\", width=500>"
   ]
  },
  {
   "cell_type": "markdown",
   "metadata": {},
   "source": [
    "Terminator : This symbol represents the beginning and end point in a program. We use start and stop option in it.\n",
    "\n",
    "Input / Output Symbol : This symbol is used to take any input or output in the algorithm.\n",
    "\n",
    "Process Symbol : A rectangle indicates the processing, calculation and arithmetic operations\n",
    "\n",
    "Decision Symbol : It is used when we want to take any decision in the program.\n",
    "\n",
    "Connector Symbol : This symbol is used to connect the various portion of a flow chart. This is normally used when \n",
    "the flow chart is split between two pages.\n",
    "\n",
    "Data Flow Symbol : This symbol is used to display the flow of the program. It shows the path of logic flow in a program."
   ]
  },
  {
   "cell_type": "code",
   "execution_count": null,
   "metadata": {
    "collapsed": true
   },
   "outputs": [],
   "source": []
  },
  {
   "cell_type": "markdown",
   "metadata": {},
   "source": [
    "### GUIDELINES FOR PRESENTING A FLOW CHART"
   ]
  },
  {
   "cell_type": "code",
   "execution_count": null,
   "metadata": {
    "collapsed": true
   },
   "outputs": [],
   "source": []
  },
  {
   "cell_type": "markdown",
   "metadata": {},
   "source": [
    "In drawing a proper flowchart, all necessary requirements should be listed out in logical order.\n",
    "• The flowchart should be clear, neat and easy to follow. There should not be any room for ambiguity in understanding the flowchart.\n",
    "• The usual direction of the flow of a procedure or system is from left to right or top to bottom.\n",
    "• Only one flow line should come out from a process symbol."
   ]
  },
  {
   "cell_type": "markdown",
   "metadata": {},
   "source": [
    "Only one flow line should enter a decision symbol, but two or three flow lines, one for each possible answer, should leave the decision symbol.\n",
    "• Only one flow line is used in conjunction with terminal symbol.\n",
    "• If the flowchart becomes complex, it is better to use connector symbols to reduce the number of flow lines. Avoid the intersection of flow lines if you want to make it more effective and better way of communication.\n",
    "• Ensure that the flowchart has a logical start and finish.\n",
    "• It is useful to test the validity of the flowchart by passing through it with a simple test data."
   ]
  },
  {
   "cell_type": "markdown",
   "metadata": {},
   "source": [
    "# Pseudocódigo"
   ]
  },
  {
   "cell_type": "code",
   "execution_count": null,
   "metadata": {
    "collapsed": true
   },
   "outputs": [],
   "source": []
  },
  {
   "cell_type": "markdown",
   "metadata": {},
   "source": [
    "TK o pseudocódigo deve atender a um padrão? (se em inglês ou em português, essa pergunta serve para os dois)"
   ]
  },
  {
   "cell_type": "code",
   "execution_count": null,
   "metadata": {
    "collapsed": true
   },
   "outputs": [],
   "source": []
  },
  {
   "cell_type": "code",
   "execution_count": null,
   "metadata": {
    "collapsed": true
   },
   "outputs": [],
   "source": []
  },
  {
   "cell_type": "markdown",
   "metadata": {},
   "source": [
    "## Exercício"
   ]
  },
  {
   "cell_type": "markdown",
   "metadata": {},
   "source": [
    "Liste a média dos valores inseridos pelo usuário"
   ]
  },
  {
   "cell_type": "code",
   "execution_count": null,
   "metadata": {
    "collapsed": true
   },
   "outputs": [],
   "source": []
  },
  {
   "cell_type": "markdown",
   "metadata": {},
   "source": [
    "## Resposta"
   ]
  },
  {
   "cell_type": "code",
   "execution_count": null,
   "metadata": {
    "collapsed": true
   },
   "outputs": [],
   "source": []
  },
  {
   "cell_type": "markdown",
   "metadata": {},
   "source": [
    "1. Give the numbers\n",
    "2. Add the numbers\n",
    "3. Count the numbers (How many numbers)\n",
    "4. Average = [answer to (2)]/ [answer to (3)]"
   ]
  },
  {
   "cell_type": "markdown",
   "metadata": {},
   "source": [
    "Average of 2, 4, 6\n",
    "\n",
    "1. Give the numbers 2, 4, 6 \n",
    "\n",
    "2. 2+ 4 + 6 = 12\n",
    "\n",
    "3. 3\n",
    "\n",
    "4. 12 / 3 = 4"
   ]
  },
  {
   "cell_type": "code",
   "execution_count": null,
   "metadata": {
    "collapsed": true
   },
   "outputs": [],
   "source": []
  },
  {
   "cell_type": "markdown",
   "metadata": {},
   "source": [
    "## Exercício"
   ]
  },
  {
   "cell_type": "markdown",
   "metadata": {},
   "source": [
    "Desenvolva um algoritmo que produza a série de Fibonacci, ou seja $1,1,2,3,5,8,13,...$"
   ]
  },
  {
   "cell_type": "markdown",
   "metadata": {},
   "source": [
    "- Let A, B = 1\n",
    "\n",
    "- Let S = A + B\n",
    "\n",
    "- Replace A with B\n",
    "\n",
    "- Replace B with S\n",
    "\n",
    "- Go to step 2 and proceed through this step again"
   ]
  },
  {
   "cell_type": "code",
   "execution_count": null,
   "metadata": {
    "collapsed": true
   },
   "outputs": [],
   "source": []
  },
  {
   "cell_type": "markdown",
   "metadata": {},
   "source": [
    "TK falar porque, criando uma combinação de tudo isso aqui, chega-se em uma solução fantástica"
   ]
  },
  {
   "cell_type": "markdown",
   "metadata": {},
   "source": [
    "TK Como colocar of flow charts direto do meu google drive (draw.io) aqui"
   ]
  },
  {
   "cell_type": "markdown",
   "metadata": {},
   "source": [
    "TK Escolher os problemas que vou atacar aqui, pelo menos cinco, e disponibilizar mais cinco para que as pessoas façam como exercícios"
   ]
  },
  {
   "cell_type": "code",
   "execution_count": null,
   "metadata": {
    "collapsed": true
   },
   "outputs": [],
   "source": []
  }
 ],
 "metadata": {
  "kernelspec": {
   "display_name": "Python 3",
   "language": "python",
   "name": "python3"
  },
  "language_info": {
   "codemirror_mode": {
    "name": "ipython",
    "version": 3
   },
   "file_extension": ".py",
   "mimetype": "text/x-python",
   "name": "python",
   "nbconvert_exporter": "python",
   "pygments_lexer": "ipython3",
   "version": "3.6.1"
  }
 },
 "nbformat": 4,
 "nbformat_minor": 2
}
